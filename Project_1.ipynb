{
 "cells": [
  {
   "cell_type": "code",
   "execution_count": 1,
   "id": "5dd364cb-4182-4f7a-bd6f-66b5eb68dcf7",
   "metadata": {},
   "outputs": [
    {
     "name": "stderr",
     "output_type": "stream",
     "text": [
      "Gtk-Message: 07:57:52.771: Failed to load module \"canberra-gtk-module\"\n"
     ]
    }
   ],
   "source": [
    "%gui wx\n",
    "import sys\n",
    "import os\n",
    "\n",
    "#####################\n",
    "# Import of utils.py functions\n",
    "#####################\n",
    "# Required to get utils.py and access its functions\n",
    "notebook_dir = os.path.abspath(\"\")\n",
    "parent_dir = os.path.abspath(os.path.join(notebook_dir, '..'))\n",
    "sys.path.append(parent_dir)\n",
    "sys.path.append('.')\n",
    "from utils import loadFSL, FSLeyesServer, mkdir_no_exist\n",
    "\n",
    "#from utils import loadFSL, FSLeyesServer, mkdir_no_exist, interactive_MCQ\n",
    "# To be modified: accessing utils"
   ]
  },
  {
   "cell_type": "code",
   "execution_count": 2,
   "id": "f1061894-09d1-4a95-8812-728c13f52e17",
   "metadata": {
    "jupyter": {
     "source_hidden": true
    }
   },
   "outputs": [],
   "source": [
    "## Copy of utils.py code, not necessary to run if the utils.py from Labs sessions is in the correct location (similar to previous weeks exos) \n",
    "async def importFSLasync():\n",
    "    #load fsl module\n",
    "    import lmod\n",
    "    import os\n",
    "    await lmod.purge(force=True)\n",
    "    await lmod.load('fsl/6.0.7.4')\n",
    "    await lmod.list()\n",
    "\n",
    "def loadFSL():\n",
    "    \"\"\"\n",
    "    Function to load FSL 6.0.7.4 module\n",
    "    Ensures proper environment variables are setup.\n",
    "    This function should be called at the start of any\n",
    "    notebook which relies in any capacity on FSL.\n",
    "    \n",
    "    If you wish to change the FSL version being used,\n",
    "    you should edit within the load AND FSLDIR the version.\n",
    "    Make sure it exists in the neurodocker image before changing it!\n",
    "    \"\"\"\n",
    "    import asyncio\n",
    "    import os\n",
    "    # We need to do the import asynchronously, as modules rely on await within\n",
    "    #asyncio.run(importFSLasync())\n",
    "    os.environ[\"FSLDIR\"]=\"/cvmfs/neurodesk.ardc.edu.au/containers/fsl_6.0.7.4_20231005/fsl_6.0.7.4_20231005.simg/opt/fsl-6.0.7.4/\"\n",
    "    os.environ[\"FSLOUTPUTTYPE\"]=\"NIFTI_GZ\"\n",
    "    os.environ[\"SINGULARITY_BINDPATH\"]=\"/data,/neurodesktop-storage,/tmp,/cvmfs\"\n",
    "\n",
    "\n",
    "def mkdir_no_exist(path):\n",
    "    \"\"\"\n",
    "    Function to create a directory if it does not exist already.\n",
    "\n",
    "    Parameters\n",
    "    ----------\n",
    "    path: string\n",
    "        Path to create\n",
    "    \"\"\"\n",
    "    import os\n",
    "    import os.path as op\n",
    "    if not op.isdir(path):\n",
    "        os.makedirs(path)\n",
    "\n",
    "class FSLeyesServer:\n",
    "    \"\"\"\n",
    "    An FSL eyes class to manipulate frame and context across notebook.\n",
    "    \n",
    "    \n",
    "    Attributes\n",
    "    ----------\n",
    "    overlayList: object\n",
    "        List of overlays, the images displayed within FSLeyes. Each image is a separate overlay\n",
    "    displayCtx: object\n",
    "        Display context\n",
    "    frame: object\n",
    "        Frame used to display and interact with FSLeyes\n",
    "    ortho: object\n",
    "        View panel in orthographic mode\n",
    "        \n",
    "    Examples\n",
    "    --------\n",
    "    >>>> %gui wx # Do not forget to use this in a notebook!\n",
    "    >>>> from utils import FSLeyesServer\n",
    "    >>>> fsleyesDisplay = FSLeyesServer()\n",
    "    >>>> fsleyesDisplay.show()\n",
    "    \n",
    "    It is not a server in the most proper sense, but merely a convenience wrapper.\n",
    "    Before initializing this class, always make sure you call %gui wx in a cell of the notebook\n",
    "    to enable GUI integration.\n",
    "    \"\"\"\n",
    "    def __init__(self):\n",
    "        import fsleyes\n",
    "        from fsleyes.views.orthopanel import OrthoPanel\n",
    "        overlayList, displayCtx, frame = fsleyes.embed()\n",
    "        ortho = frame.addViewPanel(OrthoPanel)\n",
    "        self.overlayList = overlayList\n",
    "        self.displayCtx = displayCtx\n",
    "        self.frame = frame\n",
    "        self.ortho = ortho\n",
    "    def show(self):\n",
    "        \"\"\"\n",
    "        Show the current frame interactively.\n",
    "        \"\"\"\n",
    "        self.frame.Show()\n",
    "\n",
    "    def setOverlayCmap(self,overlayNbr,cmap):\n",
    "        self.displayCtx.getOpts(self.overlayList[overlayNbr]).cmap = 'Render3'\n",
    "    \n",
    "    def resetOverlays(self):\n",
    "        \"\"\"\n",
    "        Remove all overlays from the current frame\n",
    "        \"\"\"\n",
    "        from fsleyes.views.orthopanel import OrthoPanel\n",
    "    \n",
    "        while len(self.overlayList) > 0:\n",
    "            del self.overlayList[0]\n",
    "\n",
    "        self.frame.removeViewPanel(self.frame.viewPanels[0])\n",
    "        # Put back an ortho panel in our viz for future displays\n",
    "        self.frame.addViewPanel(OrthoPanel)\n",
    "    \n",
    "    def load(self,image_path):\n",
    "        \"\"\"\n",
    "        Add a Nifti image to the current frame as a new overlay\n",
    "\n",
    "        Parameters\n",
    "        ----------\n",
    "        image_path:  string\n",
    "            Path to the Nifti image to add to the frame.\n",
    "            \n",
    "        Example\n",
    "        -------\n",
    "        >>>> %gui wx # Do not forget to use this in a notebook!\n",
    "        >>>> from utils import FSLeyesServer\n",
    "        >>>> fsleyesDisplay = FSLeyesServer() \n",
    "        >>>> fsleyesDisplay.load(op.expandvars('$FSLDIR/data/standard/MNI152_T1_0.5mm'))\n",
    "        >>>> fsleyesDisplay.show()\n",
    "        \"\"\"\n",
    "        from fsl.data.image import Image\n",
    "        import fsleyes.data.tractogram as trk\n",
    "        if \".trk\" in image_path:\n",
    "            trk_overlay = trk.Tractogram(image_path)\n",
    "            self.overlayList.append(trk_overlay)\n",
    "        else:\n",
    "            self.overlayList.append(Image(image_path))\n",
    "    def close(self):\n",
    "        \"\"\"\n",
    "        Closes the server and free up resources.\n",
    "        \"\"\"\n",
    "        import fsleyes\n",
    "    \n",
    "        self.frame.Close()\n",
    "        fsleyes.shutdown()\n",
    "\n",
    "def fsleyes_thread():\n",
    "    \"\"\"\n",
    "    Function to run the FSLeyesServer in a separate thread.\n",
    "    This function keeps the server running indefinitely.\n",
    "    \"\"\"\n",
    "    fsleyesDisplay = FSLeyesServer()\n",
    "    fsleyesDisplay.show()\n",
    "    \n",
    "    # Keep the thread alive\n",
    "    while True:\n",
    "        time.sleep(1)\n",
    "\n",
    "\n",
    "def get_json_from_file(fname):\n",
    "    \"\"\"\n",
    "    Given a filename pointing to a json, returns the json's content.\n",
    "\n",
    "    Parameters\n",
    "    ----------\n",
    "    fname: string\n",
    "        The filename of the json file\n",
    "\n",
    "    Returns\n",
    "    -------\n",
    "    The data of the json file\n",
    "    \"\"\"\n",
    "    import json\n",
    "    f = open(fname)\n",
    "    data = json.load(f)\n",
    "    f.close()\n",
    "    return data\n"
   ]
  },
  {
   "cell_type": "code",
   "execution_count": 2,
   "id": "e70331c3-8218-4370-bbc3-eb746bc0dd7e",
   "metadata": {},
   "outputs": [],
   "source": [
    "\n",
    "####################\n",
    "# DIPY_HOME should be set prior to import of dipy to make sure all downloads point to the right folder\n",
    "####################\n",
    "os.environ[\"DIPY_HOME\"] = \"/home/jovyan/Data\"\n",
    "\n",
    "\n",
    "#############################\n",
    "# Loading fsl and freesurfer within Neurodesk\n",
    "# You can find the list of available other modules by clicking on the \"Softwares\" tab on the left\n",
    "#############################\n",
    "import lmod\n",
    "await lmod.purge(force=True)\n",
    "await lmod.load('fsl/6.0.7.4')\n",
    "await lmod.load('freesurfer/7.4.1')\n",
    "await lmod.list()\n",
    "\n",
    "####################\n",
    "# Setup FSL path\n",
    "####################\n",
    "loadFSL()\n",
    "\n",
    "###################\n",
    "# Load all relevant libraries for the lab\n",
    "##################\n",
    "import fsl.wrappers\n",
    "from fsl.wrappers import fslmaths\n",
    "\n",
    "import mne_nirs\n",
    "import nilearn\n",
    "from nilearn.datasets import fetch_development_fmri\n",
    "\n",
    "import mne\n",
    "import mne_nirs\n",
    "import dipy\n",
    "from dipy.data import fetch_bundles_2_subjects, read_bundles_2_subjects\n",
    "import xml.etree.ElementTree as ET\n",
    "import os.path as op\n",
    "import nibabel as nib\n",
    "import glob\n",
    "\n",
    "import ants\n",
    "\n",
    "import openneuro\n",
    "from mne.datasets import sample\n",
    "from mne_bids import BIDSPath, read_raw_bids, print_dir_tree, make_report\n",
    "\n",
    "\n",
    "# Useful imports to define the direct download function below\n",
    "import requests\n",
    "import urllib.request\n",
    "from tqdm import tqdm\n",
    "\n",
    "\n",
    "# FSL function wrappers which we will call from python directly\n",
    "from fsl.wrappers import fast, bet\n",
    "from fsl.wrappers.misc import fslroi\n",
    "from fsl.wrappers import flirt\n",
    "\n",
    "# General purpose imports to handle paths, files etc\n",
    "import glob\n",
    "import pandas as pd\n",
    "import numpy as np\n",
    "import json\n",
    "import subprocess"
   ]
  },
  {
   "cell_type": "code",
   "execution_count": 3,
   "id": "247fa92d-51ea-48f2-ab1b-f80f3c105b99",
   "metadata": {},
   "outputs": [
    {
     "name": "stderr",
     "output_type": "stream",
     "text": [
      "07:58:24: Debug: Adding duplicate image handler for 'Windows bitmap file'\n",
      "07:58:24: Debug: Adding duplicate animation handler for '1' type\n",
      "07:58:24: Debug: Adding duplicate animation handler for '2' type\n",
      "07:58:25: Debug: Adding duplicate image handler for 'Windows bitmap file'\n",
      "07:58:25: Debug: Adding duplicate animation handler for '1' type\n",
      "07:58:25: Debug: Adding duplicate animation handler for '2' type\n",
      "\n",
      "(ipykernel_launcher.py:1555): Gtk-CRITICAL **: 07:58:25.685: gtk_window_resize: assertion 'height > 0' failed\n",
      "07:58:26: Debug: ScreenToClient cannot work when toplevel window is not shown\n",
      "07:58:26: Debug: ScreenToClient cannot work when toplevel window is not shown\n",
      "07:58:26: Debug: ScreenToClient cannot work when toplevel window is not shown\n",
      "07:58:26: Debug: ScreenToClient cannot work when toplevel window is not shown\n",
      "07:58:26: Debug: ScreenToClient cannot work when toplevel window is not shown\n",
      "07:58:26: Debug: ScreenToClient cannot work when toplevel window is not shown\n",
      "07:58:26: Debug: ScreenToClient cannot work when toplevel window is not shown\n",
      "07:58:26: Debug: ScreenToClient cannot work when toplevel window is not shown\n",
      "07:58:26: Debug: ScreenToClient cannot work when toplevel window is not shown\n",
      "07:58:27: Debug: ScreenToClient cannot work when toplevel window is not shown\n",
      "07:58:27: Debug: ScreenToClient cannot work when toplevel window is not shown\n"
     ]
    }
   ],
   "source": [
    "################\n",
    "# Start FSLeyes (very neat tool to visualize MRI data of all sorts) within Python\n",
    "################\n",
    "fsleyesDisplay = FSLeyesServer()\n",
    "fsleyesDisplay.show()"
   ]
  },
  {
   "cell_type": "markdown",
   "id": "8e52f2fd-3f61-4283-8d0b-0c7158413292",
   "metadata": {},
   "source": [
    "## 1.1 Downloading Data"
   ]
  },
  {
   "cell_type": "code",
   "execution_count": 4,
   "id": "dabe08cb-de8c-458c-b673-6320823036a4",
   "metadata": {},
   "outputs": [],
   "source": [
    "dataset_id = 'ds000171'\n",
    "subject = 'control01' \n",
    "\n",
    "sample_path = \"/home/jovyan/Data/dataset\"\n",
    "mkdir_no_exist(sample_path)\n",
    "bids_root = op.join(sample_path, dataset_id)\n",
    "deriv_root = op.join(bids_root, 'derivatives')\n",
    "preproc_root = op.join(bids_root, 'derivatives','preprocessed_data')\n",
    "\n",
    "mkdir_no_exist(bids_root)\n",
    "\n",
    "subject_dir = 'sub-{}'.format(subject)\n",
    "\n",
    "\n",
    "###################\n",
    "# Create folders relevant for preprocessing.\n",
    "###################\n",
    "mkdir_no_exist(op.join(bids_root, 'derivatives'))\n",
    "preproc_root = op.join(bids_root, 'derivatives','preprocessed_data')\n",
    "mkdir_no_exist(preproc_root)\n",
    "mkdir_no_exist(op.join(preproc_root, 'sub-control01'))\n",
    "mkdir_no_exist(op.join(preproc_root, 'sub-control01', 'anat'))\n",
    "mkdir_no_exist(op.join(preproc_root, 'sub-control01', 'func'))"
   ]
  },
  {
   "cell_type": "code",
   "execution_count": 5,
   "id": "f70a4ec3-dc58-4ef6-82ab-419354894929",
   "metadata": {},
   "outputs": [
    {
     "name": "stderr",
     "output_type": "stream",
     "text": [
      "\n",
      "(ipykernel_launcher.py:1555): Gdk-WARNING **: 08:00:57.714: gdkdrawable-x11.c:952 drawable is not a pixmap or window\n"
     ]
    }
   ],
   "source": [
    "fsleyesDisplay.resetOverlays()\n",
    "fsleyesDisplay.load(op.join(bids_root, 'sub-control01', 'anat', 'sub-control01_T1w.nii.gz'))"
   ]
  },
  {
   "cell_type": "code",
   "execution_count": 7,
   "id": "920869b8-f61a-4cb2-a723-b2f4be5993a7",
   "metadata": {},
   "outputs": [
    {
     "name": "stdout",
     "output_type": "stream",
     "text": [
      "|ds000171/\n",
      "|--- CHANGES\n",
      "|--- README\n",
      "|--- T1w.json\n",
      "|--- dataset_description.json\n",
      "|--- task-music_bold.json\n",
      "|--- derivatives/\n",
      "|------ preprocessed_data/\n",
      "|--------- sub-control01/\n",
      "|------------ anat/\n",
      "|------------ func/\n",
      "|--- sub-control01/\n",
      "|------ anat/\n",
      "|--------- sub-control01_T1w.nii.gz\n",
      "|------ func/\n",
      "|--------- sub-control01_task-music_run-1_bold.nii.gz\n",
      "|--------- sub-control01_task-music_run-1_events.tsv\n",
      "|--------- sub-control01_task-music_run-2_bold.nii.gz\n",
      "|--------- sub-control01_task-music_run-2_events.tsv\n",
      "|--------- sub-control01_task-music_run-3_bold.nii.gz\n",
      "|--------- sub-control01_task-music_run-3_events.tsv\n"
     ]
    }
   ],
   "source": [
    "print_dir_tree(bids_root, max_depth=4)"
   ]
  },
  {
   "cell_type": "markdown",
   "id": "d641edef-aca6-4fb4-ae48-e7bca6877722",
   "metadata": {},
   "source": [
    "## 1.2 Standardizing & Concatenating Data"
   ]
  },
  {
   "cell_type": "code",
   "execution_count": 15,
   "id": "17961ceb-1804-4354-98ae-b229d88cd9f1",
   "metadata": {},
   "outputs": [
    {
     "name": "stdout",
     "output_type": "stream",
     "text": [
      "Standardizing run 1 with mean: 191.366 and std: 353.0\n",
      "Standardizing run 2 with mean: 191.759 and std: 354.386\n",
      "Standardizing run 3 with mean: 191.214 and std: 352.308\n",
      "Concatenation complete and saved as concatenated_bold.nii.gz\n"
     ]
    }
   ],
   "source": [
    "# Finding the runs matching the structure run-*\n",
    "fmri_paths = glob.glob(op.join(bids_root,'sub-control01', 'func', 'sub-control01_task-music_run-*_bold.nii.gz'))\n",
    "\n",
    "# List to hold the standardized data arrays from each run\n",
    "standardized_fmri_data = []\n",
    "\n",
    "# Loop through each run file and load it\n",
    "for i, run_path in enumerate(fmri_paths):\n",
    "    img = nib.load(run_path)\n",
    "    data = img.get_fdata()  # Extract the data as a numpy array\n",
    "    \n",
    "    # Standardize data (z-scoring)\n",
    "    mean = np.mean(data)\n",
    "    std = np.std(data)\n",
    "    standardized_data = (data - mean) / std\n",
    "    print(\"Standardizing run {} with mean: {} and std: {}\".format(i+1, round(mean,3), round(std,3)))\n",
    "    \n",
    "    # Append standardized data for concatenation\n",
    "    standardized_fmri_data.append(standardized_data)\n",
    "\n",
    "# Concatenate the standardized runs along the time dimension (4th dimension)\n",
    "concatenated_data = np.concatenate(standardized_fmri_data, axis=3)\n",
    "\n",
    "# Create a new NIfTI image for the concatenated data\n",
    "concatenated_img = nib.Nifti1Image(concatenated_data, img.affine, img.header)\n",
    "\n",
    "# Save the concatenated image\n",
    "nib.save(concatenated_img, op.join(preproc_root, 'sub-control01', 'func', 'concatenated_bold.nii.gz'))\n",
    "print(\"Concatenation complete and saved as concatenated_bold.nii.gz\")"
   ]
  },
  {
   "cell_type": "code",
   "execution_count": 16,
   "id": "a92f866f-5b90-427d-a253-feb8325069c1",
   "metadata": {},
   "outputs": [
    {
     "name": "stdout",
     "output_type": "stream",
     "text": [
      "Resulting concatenated data has mean: -0.0 and std: 1.0\n"
     ]
    }
   ],
   "source": [
    "print(\"Resulting concatenated data has mean: {} and std: {}\".format(round(np.mean(concatenated_data),3), round(np.std(concatenated_data),3)))"
   ]
  },
  {
   "cell_type": "code",
   "execution_count": 17,
   "id": "77d1eb25-f1b6-45fc-a3cc-c96b07f3a39d",
   "metadata": {},
   "outputs": [
    {
     "name": "stdout",
     "output_type": "stream",
     "text": [
      "|ds000171/\n",
      "|--- CHANGES\n",
      "|--- README\n",
      "|--- T1w.json\n",
      "|--- dataset_description.json\n",
      "|--- task-music_bold.json\n",
      "|--- derivatives/\n",
      "|------ preprocessed_data/\n",
      "|--------- sub-control01/\n",
      "|------------ anat/\n",
      "|------------ func/\n",
      "|--------------- concatenated_bold.nii.gz\n",
      "|--------------- concatenated_standardized_fmri.nii.gz\n",
      "|--- sub-control01/\n",
      "|------ anat/\n",
      "|--------- sub-control01_T1w.nii.gz\n",
      "|------ func/\n",
      "|--------- sub-control01_task-music_run-1_bold.nii.gz\n",
      "|--------- sub-control01_task-music_run-1_events.tsv\n",
      "|--------- sub-control01_task-music_run-2_bold.nii.gz\n",
      "|--------- sub-control01_task-music_run-2_events.tsv\n",
      "|--------- sub-control01_task-music_run-3_bold.nii.gz\n",
      "|--------- sub-control01_task-music_run-3_events.tsv\n"
     ]
    }
   ],
   "source": [
    "print_dir_tree(bids_root, max_depth=5)"
   ]
  },
  {
   "cell_type": "code",
   "execution_count": 18,
   "id": "0e7f2ccd-d6c5-4f79-b706-9105b5d0210f",
   "metadata": {},
   "outputs": [],
   "source": [
    "fsleyesDisplay.resetOverlays()\n",
    "fsleyesDisplay.load(op.join(preproc_root, 'sub-control01', 'func', 'concatenated_bold.nii.gz'))"
   ]
  },
  {
   "cell_type": "markdown",
   "id": "d52d4038-1b6e-49cd-b3fe-b7835b5fe6b6",
   "metadata": {},
   "source": [
    "## 1.3 Pre-processing Data"
   ]
  },
  {
   "cell_type": "markdown",
   "id": "da5522f1-9fc9-41a6-aa47-81720d5bf431",
   "metadata": {},
   "source": [
    "### 1.3.PP1 - Motion Correction"
   ]
  },
  {
   "cell_type": "code",
   "execution_count": 20,
   "id": "bc0928f9-cc11-413e-abcd-31b54f15078a",
   "metadata": {},
   "outputs": [
    {
     "name": "stderr",
     "output_type": "stream",
     "text": [
      "Processed data will be saved as /home/jovyan/Data/dataset/ds000171/derivatives/preprocessed_data/sub-control01/func/concatenated_bold_moco\n",
      "\n",
      "McFLIRT v 2.0 - FMRI motion correction\n",
      "\n",
      "Reading time series... \n",
      "first iteration - 8mm scaling, set tolerance\n",
      "Rescaling reference volume [157] to 8 mm pixels\n",
      "Registering volumes ... [158][159][160][161][162][163][164][165][166][167][168][169][170][171][172][173][174][175][176][177][178][179][180][181][182][183][184][185][186][187][188][189][190][191][192][193][194][195][196][197][198][199][200][201][202][203][204][205][206][207][208][209][210][211][212][213][214][215][216][217][218][219][220][221][222][223][224][225][226][227][228][229][230][231][232][233][234][235][236][237][238][239][240][241][242][243][244][245][246][247][248][249][250][251][252][253][254][255][256][257][258][259][260][261][262][263][264][265][266][267][268][269][270][271][272][273][274][275][276][277][278][279][280][281][282][283][284][285][286][287][288][289][290][291][292][293][294][295][296][297][298][299][300][301][302][303][304][305][306][307][308][309][310][311][312][313][314][156][155][154][153][152][151][150][149][148][147][146][145][144][143][142][141][140][139][138][137][136][135][134][133][132][131][130][129][128][127][126][125][124][123][122][121][120][119][118][117][116][115][114][113][112][111][110][109][108][107][106][105][104][103][102][101][100][99][98][97][96][95][94][93][92][91][90][89][88][87][86][85][84][83][82][81][80][79][78][77][76][75][74][73][72][71][70][69][68][67][66][65][64][63][62][61][60][59][58][57][56][55][54][53][52][51][50][49][48][47][46][45][44][43][42][41][40][39][38][37][36][35][34][33][32][31][30][29][28][27][26][25][24][23][22][21][20][19][18][17][16][15][14][13][12][11][10][9][8][7][6][5][4][3][2][1][0]\n",
      "second iteration - drop to 4mm scaling\n",
      "Rescaling reference volume [157] to 4 mm pixels\n",
      "Registering volumes ... [158][159][160][161][162][163][164][165][166][167][168][169][170][171][172][173][174][175][176][177][178][179][180][181][182][183][184][185][186][187][188][189][190][191][192][193][194][195][196][197][198][199][200][201][202][203][204][205][206][207][208][209][210][211][212][213][214][215][216][217][218][219][220][221][222][223][224][225][226][227][228][229][230][231][232][233][234][235][236][237][238][239][240][241][242][243][244][245][246][247][248][249][250][251][252][253][254][255][256][257][258][259][260][261][262][263][264][265][266][267][268][269][270][271][272][273][274][275][276][277][278][279][280][281][282][283][284][285][286][287][288][289][290][291][292][293][294][295][296][297][298][299][300][301][302][303][304][305][306][307][308][309][310][311][312][313][314][156][155][154][153][152][151][150][149][148][147][146][145][144][143][142][141][140][139][138][137][136][135][134][133][132][131][130][129][128][127][126][125][124][123][122][121][120][119][118][117][116][115][114][113][112][111][110][109][108][107][106][105][104][103][102][101][100][99][98][97][96][95][94][93][92][91][90][89][88][87][86][85][84][83][82][81][80][79][78][77][76][75][74][73][72][71][70][69][68][67][66][65][64][63][62][61][60][59][58][57][56][55][54][53][52][51][50][49][48][47][46][45][44][43][42][41][40][39][38][37][36][35][34][33][32][31][30][29][28][27][26][25][24][23][22][21][20][19][18][17][16][15][14][13][12][11][10][9][8][7][6][5][4][3][2][1][0]\n",
      "third iteration - 4mm scaling, eighth tolerance\n"
     ]
    },
    {
     "name": "stdout",
     "output_type": "stream",
     "text": [
      "refnum = 157\n",
      "Original_refvol = -1\n"
     ]
    },
    {
     "name": "stderr",
     "output_type": "stream",
     "text": [
      "Registering volumes ... [158][159][160][161][162][163][164][165][166][167][168][169][170][171][172][173][174][175][176][177][178][179][180][181][182][183][184][185][186][187][188][189][190][191][192][193][194][195][196][197][198][199][200][201][202][203][204][205][206][207][208][209][210][211][212][213][214][215][216][217][218][219][220][221][222][223][224][225][226][227][228][229][230][231][232][233][234][235][236][237][238][239][240][241][242][243][244][245][246][247][248][249][250][251][252][253][254][255][256][257][258][259][260][261][262][263][264][265][266][267][268][269][270][271][272][273][274][275][276][277][278][279][280][281][282][283][284][285][286][287][288][289][290][291][292][293][294][295][296][297][298][299][300][301][302][303][304][305][306][307][308][309][310][311][312][313][314][156][155][154][153][152][151][150][149][148][147][146][145][144][143][142][141][140][139][138][137][136][135][134][133][132][131][130][129][128][127][126][125][124][123][122][121][120][119][118][117][116][115][114][113][112][111][110][109][108][107][106][105][104][103][102][101][100][99][98][97][96][95][94][93][92][91][90][89][88][87][86][85][84][83][82][81][80][79][78][77][76][75][74][73][72][71][70][69][68][67][66][65][64][63][62][61][60][59][58][57][56][55][54][53][52][51][50][49][48][47][46][45][44][43][42][41][40][39][38][37][36][35][34][33][32][31][30][29][28][27][26][25][24][23][22][21][20][19][18][17][16][15][14][13][12][11][10][9][8][7][6][5][4][3][2][1][0]\n",
      "Saving motion corrected time series... \n"
     ]
    },
    {
     "data": {
      "text/plain": [
       "{}"
      ]
     },
     "execution_count": 20,
     "metadata": {},
     "output_type": "execute_result"
    }
   ],
   "source": [
    "from fsl.wrappers import mcflirt\n",
    "\n",
    "path_original_data = os.path.join(preproc_root, 'sub-control01', 'func','concatenated_bold')\n",
    "path_moco_data = os.path.join(preproc_root, 'sub-control01', 'func','concatenated_bold_moco')\n",
    "mcflirt(infile=path_original_data,o=path_moco_data, plots=True, report=True, dof=6, mats=True)"
   ]
  },
  {
   "cell_type": "code",
   "execution_count": 21,
   "id": "f9cbf949-3864-4766-a2a0-53a4db7c7df3",
   "metadata": {},
   "outputs": [
    {
     "name": "stdout",
     "output_type": "stream",
     "text": [
      "|ds000171/\n",
      "|--- CHANGES\n",
      "|--- README\n",
      "|--- T1w.json\n",
      "|--- dataset_description.json\n",
      "|--- task-music_bold.json\n",
      "|--- derivatives/\n",
      "|------ preprocessed_data/\n",
      "|--------- sub-control01/\n",
      "|------------ anat/\n",
      "|------------ func/\n",
      "|--------------- concatenated_bold.nii.gz\n",
      "|--------------- concatenated_bold_moco.nii.gz\n",
      "|--------------- concatenated_bold_moco.par\n",
      "|--------------- concatenated_standardized_fmri.nii.gz\n",
      "|--------------- concatenated_bold_moco.mat/\n",
      "|--- sub-control01/\n",
      "|------ anat/\n",
      "|--------- sub-control01_T1w.nii.gz\n",
      "|------ func/\n",
      "|--------- sub-control01_task-music_run-1_bold.nii.gz\n",
      "|--------- sub-control01_task-music_run-1_events.tsv\n",
      "|--------- sub-control01_task-music_run-2_bold.nii.gz\n",
      "|--------- sub-control01_task-music_run-2_events.tsv\n",
      "|--------- sub-control01_task-music_run-3_bold.nii.gz\n",
      "|--------- sub-control01_task-music_run-3_events.tsv\n"
     ]
    }
   ],
   "source": [
    "print_dir_tree(bids_root, max_depth=5)"
   ]
  },
  {
   "cell_type": "code",
   "execution_count": 22,
   "id": "b3dab9bf-996f-495c-8b6a-92997e9044c3",
   "metadata": {},
   "outputs": [],
   "source": [
    "# Looking at the time series\n",
    "fsleyesDisplay.resetOverlays()\n",
    "fsleyesDisplay.load(path_moco_data)"
   ]
  },
  {
   "cell_type": "markdown",
   "id": "47e8ed3f-fe05-4604-a308-e954e8df4082",
   "metadata": {},
   "source": [
    "### Observing the motion correction parameters"
   ]
  },
  {
   "cell_type": "code",
   "execution_count": 24,
   "id": "683f560d-c1de-476c-8833-9f9edb9d1cf1",
   "metadata": {},
   "outputs": [
    {
     "data": {
      "text/html": [
       "<div>\n",
       "<style scoped>\n",
       "    .dataframe tbody tr th:only-of-type {\n",
       "        vertical-align: middle;\n",
       "    }\n",
       "\n",
       "    .dataframe tbody tr th {\n",
       "        vertical-align: top;\n",
       "    }\n",
       "\n",
       "    .dataframe thead th {\n",
       "        text-align: right;\n",
       "    }\n",
       "</style>\n",
       "<table border=\"1\" class=\"dataframe\">\n",
       "  <thead>\n",
       "    <tr style=\"text-align: right;\">\n",
       "      <th></th>\n",
       "      <th>Rotation x</th>\n",
       "      <th>Rotation y</th>\n",
       "      <th>Rotation z</th>\n",
       "      <th>Translation x</th>\n",
       "      <th>Translation y</th>\n",
       "      <th>Translation z</th>\n",
       "    </tr>\n",
       "  </thead>\n",
       "  <tbody>\n",
       "    <tr>\n",
       "      <th>0</th>\n",
       "      <td>0.003589</td>\n",
       "      <td>-0.001559</td>\n",
       "      <td>-0.000531</td>\n",
       "      <td>-0.050087</td>\n",
       "      <td>0.099340</td>\n",
       "      <td>-0.038157</td>\n",
       "    </tr>\n",
       "    <tr>\n",
       "      <th>1</th>\n",
       "      <td>0.003282</td>\n",
       "      <td>-0.001188</td>\n",
       "      <td>-0.000795</td>\n",
       "      <td>-0.050873</td>\n",
       "      <td>0.116915</td>\n",
       "      <td>0.004254</td>\n",
       "    </tr>\n",
       "    <tr>\n",
       "      <th>2</th>\n",
       "      <td>0.003512</td>\n",
       "      <td>-0.001559</td>\n",
       "      <td>-0.000531</td>\n",
       "      <td>-0.043648</td>\n",
       "      <td>0.108177</td>\n",
       "      <td>0.006521</td>\n",
       "    </tr>\n",
       "    <tr>\n",
       "      <th>3</th>\n",
       "      <td>0.003022</td>\n",
       "      <td>-0.001559</td>\n",
       "      <td>-0.000629</td>\n",
       "      <td>-0.038498</td>\n",
       "      <td>0.132932</td>\n",
       "      <td>0.049739</td>\n",
       "    </tr>\n",
       "    <tr>\n",
       "      <th>4</th>\n",
       "      <td>0.002863</td>\n",
       "      <td>-0.001613</td>\n",
       "      <td>-0.000531</td>\n",
       "      <td>-0.027561</td>\n",
       "      <td>0.154108</td>\n",
       "      <td>0.082880</td>\n",
       "    </tr>\n",
       "    <tr>\n",
       "      <th>...</th>\n",
       "      <td>...</td>\n",
       "      <td>...</td>\n",
       "      <td>...</td>\n",
       "      <td>...</td>\n",
       "      <td>...</td>\n",
       "      <td>...</td>\n",
       "    </tr>\n",
       "    <tr>\n",
       "      <th>310</th>\n",
       "      <td>0.017954</td>\n",
       "      <td>-0.002565</td>\n",
       "      <td>-0.002477</td>\n",
       "      <td>-0.039753</td>\n",
       "      <td>0.952790</td>\n",
       "      <td>0.792831</td>\n",
       "    </tr>\n",
       "    <tr>\n",
       "      <th>311</th>\n",
       "      <td>0.018129</td>\n",
       "      <td>-0.002850</td>\n",
       "      <td>-0.002701</td>\n",
       "      <td>-0.034739</td>\n",
       "      <td>0.925987</td>\n",
       "      <td>0.774405</td>\n",
       "    </tr>\n",
       "    <tr>\n",
       "      <th>312</th>\n",
       "      <td>0.018531</td>\n",
       "      <td>-0.003016</td>\n",
       "      <td>-0.002477</td>\n",
       "      <td>-0.027444</td>\n",
       "      <td>0.958274</td>\n",
       "      <td>0.767750</td>\n",
       "    </tr>\n",
       "    <tr>\n",
       "      <th>313</th>\n",
       "      <td>0.017843</td>\n",
       "      <td>-0.002985</td>\n",
       "      <td>-0.002750</td>\n",
       "      <td>-0.049611</td>\n",
       "      <td>0.929928</td>\n",
       "      <td>0.756348</td>\n",
       "    </tr>\n",
       "    <tr>\n",
       "      <th>314</th>\n",
       "      <td>0.017574</td>\n",
       "      <td>-0.002924</td>\n",
       "      <td>-0.002964</td>\n",
       "      <td>-0.071906</td>\n",
       "      <td>0.896549</td>\n",
       "      <td>0.754021</td>\n",
       "    </tr>\n",
       "  </tbody>\n",
       "</table>\n",
       "<p>315 rows × 6 columns</p>\n",
       "</div>"
      ],
      "text/plain": [
       "     Rotation x  Rotation y  Rotation z  Translation x  Translation y  \\\n",
       "0      0.003589   -0.001559   -0.000531      -0.050087       0.099340   \n",
       "1      0.003282   -0.001188   -0.000795      -0.050873       0.116915   \n",
       "2      0.003512   -0.001559   -0.000531      -0.043648       0.108177   \n",
       "3      0.003022   -0.001559   -0.000629      -0.038498       0.132932   \n",
       "4      0.002863   -0.001613   -0.000531      -0.027561       0.154108   \n",
       "..          ...         ...         ...            ...            ...   \n",
       "310    0.017954   -0.002565   -0.002477      -0.039753       0.952790   \n",
       "311    0.018129   -0.002850   -0.002701      -0.034739       0.925987   \n",
       "312    0.018531   -0.003016   -0.002477      -0.027444       0.958274   \n",
       "313    0.017843   -0.002985   -0.002750      -0.049611       0.929928   \n",
       "314    0.017574   -0.002924   -0.002964      -0.071906       0.896549   \n",
       "\n",
       "     Translation z  \n",
       "0        -0.038157  \n",
       "1         0.004254  \n",
       "2         0.006521  \n",
       "3         0.049739  \n",
       "4         0.082880  \n",
       "..             ...  \n",
       "310       0.792831  \n",
       "311       0.774405  \n",
       "312       0.767750  \n",
       "313       0.756348  \n",
       "314       0.754021  \n",
       "\n",
       "[315 rows x 6 columns]"
      ]
     },
     "execution_count": 24,
     "metadata": {},
     "output_type": "execute_result"
    }
   ],
   "source": [
    "def load_mot_params_fsl_6_dof(path):\n",
    "    return pd.read_csv(path, sep='  ', header=None, \n",
    "            engine='python', names=['Rotation x', 'Rotation y', 'Rotation z','Translation x', 'Translation y', 'Translation z'])\n",
    "\n",
    "mot_params = load_mot_params_fsl_6_dof(op.join(preproc_root, 'sub-control01', 'func','concatenated_bold_moco.par'))\n",
    "mot_params"
   ]
  },
  {
   "cell_type": "code",
   "execution_count": 25,
   "id": "9269104f-e7a7-4181-b013-11b41662c6ce",
   "metadata": {},
   "outputs": [
    {
     "data": {
      "image/png": "[encoded data removed]",
      "text/plain": [
       "<Figure size 640x480 with 1 Axes>"
      ]
     },
     "metadata": {},
     "output_type": "display_data"
    }
   ],
   "source": [
    "import matplotlib.pyplot as plt\n",
    "#%matplotlib inline\n",
    "\n",
    "# Getting the translation and computing the interframe difference  \n",
    "trans_x = mot_params[\"Translation x\"]\n",
    "disp_x = np.diff(trans_x)\n",
    "\n",
    "# Thresholding in absolute value above 0.2mm \n",
    "threshold=0.2\n",
    "\n",
    "#Plotting\n",
    "plt.plot(np.abs(disp_x))\n",
    "plt.hlines(threshold, 0, 370,colors='black', linestyles='dashed', label='FD threshold')\n",
    "plt.xlabel(\"Volumes\")\n",
    "plt.ylabel(\"Framewise translation displacement (mm)\")\n",
    "plt.show()"
   ]
  },
  {
   "cell_type": "code",
   "execution_count": 26,
   "id": "f35f8182-a5e0-4390-a26a-79e60859e85f",
   "metadata": {},
   "outputs": [],
   "source": [
    "def compute_FD_power(mot_params):\n",
    "    framewise_diff = mot_params.diff().iloc[1:]\n",
    "\n",
    "    rot_params = framewise_diff[['Rotation x', 'Rotation y', 'Rotation z']]\n",
    "    # Estimating displacement on a 50mm radius sphere\n",
    "\n",
    "    converted_rots = rot_params*50\n",
    "    trans_params = framewise_diff[['Translation x', 'Translation y', 'Translation z']]\n",
    "    fd = converted_rots.abs().sum(axis=1) + trans_params.abs().sum(axis=1)\n",
    "    return fd\n",
    "\n",
    "fd = compute_FD_power(mot_params).to_numpy()"
   ]
  },
  {
   "cell_type": "code",
   "execution_count": 27,
   "id": "bca9c98e-be3e-457a-b422-ffc6bd840cfe",
   "metadata": {},
   "outputs": [],
   "source": [
    "threshold = np.quantile(fd,0.75) + 1.5*(np.quantile(fd,0.75) - np.quantile(fd,0.25))"
   ]
  },
  {
   "cell_type": "code",
   "execution_count": 28,
   "id": "1d4a09db-2f21-41c5-9282-0e09886ed1f5",
   "metadata": {},
   "outputs": [
    {
     "data": {
      "image/png": "[encoded data removed]",
      "text/plain": [
       "<Figure size 640x480 with 1 Axes>"
      ]
     },
     "metadata": {},
     "output_type": "display_data"
    }
   ],
   "source": [
    "#%matplotlib inline\n",
    "plt.plot(list(range(1, fd.size+1)), fd)\n",
    "plt.xlabel('Volume')\n",
    "plt.ylabel('FD displacement (mm)')\n",
    "plt.hlines(threshold, 0, 370,colors='black', linestyles='dashed', label='FD threshold')\n",
    "plt.legend()\n",
    "plt.show()"
   ]
  },
  {
   "cell_type": "code",
   "execution_count": 29,
   "id": "f2e3af2f-416b-46cb-b910-c798f288a250",
   "metadata": {},
   "outputs": [
    {
     "data": {
      "text/plain": [
       "array([ 17,  18,  60,  86,  90, 103, 105, 210, 269, 275])"
      ]
     },
     "execution_count": 29,
     "metadata": {},
     "output_type": "execute_result"
    }
   ],
   "source": [
    "np.where(fd > threshold)[0] + 1"
   ]
  },
  {
   "cell_type": "markdown",
   "id": "b3e8ff1c-bf19-41e0-9bf8-edeaa735581a",
   "metadata": {},
   "source": [
    "### 1.3.PP2 - Smoothing"
   ]
  },
  {
   "cell_type": "code",
   "execution_count": 31,
   "id": "4dfcbe6d-0834-4251-a16c-7ab53cf79e59",
   "metadata": {},
   "outputs": [
    {
     "data": {
      "text/plain": [
       "CompletedProcess(args=['fslmaths', '/home/jovyan/Data/dataset/ds000171/derivatives/preprocessed_data/sub-control01/func/concatenated_bold_moco', '-s', '2.547987090198743', '/home/jovyan/Data/dataset/ds000171/derivatives/preprocessed_data/sub-control01/func/concatenated_bold_moco_smoothed-6mm'], returncode=0)"
      ]
     },
     "execution_count": 31,
     "metadata": {},
     "output_type": "execute_result"
    }
   ],
   "source": [
    "output_path = op.join(preproc_root, 'sub-control01', 'func','concatenated_bold_moco')\n",
    "cmd = 'fslmaths {} -s {} {}_smoothed-6mm'.format(output_path, 6/2.3548, output_path)\n",
    "subprocess.run(['fslmaths',output_path, '-s', str(6/2.3548), '{}_smoothed-6mm'.format(output_path)])"
   ]
  },
  {
   "cell_type": "code",
   "execution_count": 32,
   "id": "3247d8a2-cab8-40aa-ac82-0c13ee26d189",
   "metadata": {},
   "outputs": [],
   "source": [
    "fsleyesDisplay.load(output_path + '_smoothed-6mm')"
   ]
  },
  {
   "cell_type": "code",
   "execution_count": 33,
   "id": "4d2958eb-4817-409e-9cb4-163e2651dffe",
   "metadata": {},
   "outputs": [
    {
     "name": "stdout",
     "output_type": "stream",
     "text": [
      "|ds000171/\n",
      "|--- CHANGES\n",
      "|--- README\n",
      "|--- T1w.json\n",
      "|--- dataset_description.json\n",
      "|--- task-music_bold.json\n",
      "|--- derivatives/\n",
      "|------ preprocessed_data/\n",
      "|--------- sub-control01/\n",
      "|------------ anat/\n",
      "|------------ func/\n",
      "|--------------- concatenated_bold.nii.gz\n",
      "|--------------- concatenated_bold_moco.nii.gz\n",
      "|--------------- concatenated_bold_moco.par\n",
      "|--------------- concatenated_bold_moco_smoothed-6mm.nii.gz\n",
      "|--------------- concatenated_standardized_fmri.nii.gz\n",
      "|--------------- concatenated_bold_moco.mat/\n",
      "|--- sub-control01/\n",
      "|------ anat/\n",
      "|--------- sub-control01_T1w.nii.gz\n",
      "|------ func/\n",
      "|--------- sub-control01_task-music_run-1_bold.nii.gz\n",
      "|--------- sub-control01_task-music_run-1_events.tsv\n",
      "|--------- sub-control01_task-music_run-2_bold.nii.gz\n",
      "|--------- sub-control01_task-music_run-2_events.tsv\n",
      "|--------- sub-control01_task-music_run-3_bold.nii.gz\n",
      "|--------- sub-control01_task-music_run-3_events.tsv\n"
     ]
    }
   ],
   "source": [
    "print_dir_tree(bids_root, max_depth=5)"
   ]
  },
  {
   "cell_type": "code",
   "execution_count": 34,
   "id": "3d2982ac-0d0b-4cd6-8930-c8572bc42d4a",
   "metadata": {},
   "outputs": [],
   "source": [
    "fsleyesDisplay.resetOverlays()\n",
    "fsleyesDisplay.load(op.join(bids_root, 'sub-control01', 'anat', 'sub-control01_T1w.nii.gz'))"
   ]
  },
  {
   "cell_type": "markdown",
   "id": "e2dfc90d-6d6a-4228-81fb-ef51c74aa886",
   "metadata": {},
   "source": [
    "# ---- End of pre-processing ------"
   ]
  },
  {
   "cell_type": "markdown",
   "id": "9891e523-16de-48fa-92fb-65f6c66524a3",
   "metadata": {},
   "source": [
    "## Design Matrix"
   ]
  },
  {
   "cell_type": "code",
   "execution_count": null,
   "id": "e1d23622-30c8-41e4-83f5-642c4b8b8280",
   "metadata": {},
   "outputs": [],
   "source": [
    "# Code from Lab05\n",
    "from nilearn.image import concat_imgs, mean_img\n",
    "fmri_img = concat_imgs(subject_data.func)\n",
    "events = pd.read_table(subject_data['events'])\n",
    "events"
   ]
  },
  {
   "cell_type": "code",
   "execution_count": null,
   "id": "24c7e945-6bab-4742-9a5d-87493485eab6",
   "metadata": {},
   "outputs": [],
   "source": [
    "from nilearn.glm.first_level import make_first_level_design_matrix, FirstLevelModel\n",
    "\n",
    "# Specify what sort of GLM we want (nature of the noise, repetition time of the data and other parameters)\n",
    "fmri_glm = FirstLevelModel(t_r=7,\n",
    "                           noise_model='ar1',\n",
    "                           standardize=False,\n",
    "                           hrf_model='spm',\n",
    "                           drift_model=None,\n",
    "                           high_pass=.01)\n",
    "\n",
    "# Fit the model to our design and data\n",
    "fmri_glm = fmri_glm.fit(fmri_img, events)"
   ]
  },
  {
   "cell_type": "code",
   "execution_count": null,
   "id": "b16d90fb-6a27-4741-bdea-a36f986a8c96",
   "metadata": {},
   "outputs": [],
   "source": [
    "from nilearn.plotting import plot_design_matrix\n",
    "plot_design_matrix(fmri_glm.design_matrices_[0])\n",
    "plt.show()"
   ]
  }
 ],
 "metadata": {
  "kernelspec": {
   "display_name": "Python 3 (ipykernel)",
   "language": "python",
   "name": "python3"
  },
  "language_info": {
   "codemirror_mode": {
    "name": "ipython",
    "version": 3
   },
   "file_extension": ".py",
   "mimetype": "text/x-python",
   "name": "python",
   "nbconvert_exporter": "python",
   "pygments_lexer": "ipython3",
   "version": "3.11.6"
  }
 },
 "nbformat": 4,
 "nbformat_minor": 5
}
